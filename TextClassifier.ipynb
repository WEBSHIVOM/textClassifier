{
  "nbformat": 4,
  "nbformat_minor": 0,
  "metadata": {
    "colab": {
      "name": "TextClassifier.ipynb",
      "version": "0.3.2",
      "provenance": [],
      "include_colab_link": true
    },
    "kernelspec": {
      "name": "python3",
      "display_name": "Python 3"
    }
  },
  "cells": [
    {
      "cell_type": "markdown",
      "metadata": {
        "id": "view-in-github",
        "colab_type": "text"
      },
      "source": [
        "<a href=\"https://colab.research.google.com/github/WEBSHIVOM/textClassifier/blob/master/TextClassifier.ipynb\" target=\"_parent\"><img src=\"https://colab.research.google.com/assets/colab-badge.svg\" alt=\"Open In Colab\"/></a>"
      ]
    },
    {
      "cell_type": "code",
      "metadata": {
        "id": "nryEaCrgz4xd",
        "colab_type": "code",
        "colab": {
          "base_uri": "https://localhost:8080/",
          "height": 34
        },
        "outputId": "2db77de0-30dd-4a78-821d-22efcc2ee5e5"
      },
      "source": [
        "from __future__ import absolute_import, division, print_function, unicode_literals\n",
        "\n",
        "import tensorflow as tf\n",
        "from tensorflow import keras\n",
        "\n",
        "import numpy as np\n",
        "\n",
        "print(tf.__version__)"
      ],
      "execution_count": 22,
      "outputs": [
        {
          "output_type": "stream",
          "text": [
            "1.14.0\n"
          ],
          "name": "stdout"
        }
      ]
    },
    {
      "cell_type": "code",
      "metadata": {
        "id": "4_1JCEFr0TDq",
        "colab_type": "code",
        "colab": {}
      },
      "source": [
        "imdb = keras.datasets.imdb\n",
        "\n",
        "(train_data, train_labels), (test_data, test_labels) = imdb.load_data(num_words=10000)"
      ],
      "execution_count": 0,
      "outputs": []
    },
    {
      "cell_type": "markdown",
      "metadata": {
        "id": "7ZunNf2b0hkH",
        "colab_type": "text"
      },
      "source": [
        "Exploring the dataset"
      ]
    },
    {
      "cell_type": "code",
      "metadata": {
        "id": "YudfGiJh0ekT",
        "colab_type": "code",
        "colab": {
          "base_uri": "https://localhost:8080/",
          "height": 34
        },
        "outputId": "0af3964e-7286-4ceb-e894-4786d395e4f9"
      },
      "source": [
        "print(\"Training entries: {}, labels: {}\".format(len(train_data), len(train_labels)))"
      ],
      "execution_count": 24,
      "outputs": [
        {
          "output_type": "stream",
          "text": [
            "Training entries: 25000, labels: 25000\n"
          ],
          "name": "stdout"
        }
      ]
    },
    {
      "cell_type": "code",
      "metadata": {
        "id": "oPTm7d8D0ssU",
        "colab_type": "code",
        "colab": {
          "base_uri": "https://localhost:8080/",
          "height": 54
        },
        "outputId": "ceb541a5-0502-4106-9d04-32d84ba0f1a9"
      },
      "source": [
        "print(train_data[0])"
      ],
      "execution_count": 25,
      "outputs": [
        {
          "output_type": "stream",
          "text": [
            "[1, 14, 22, 16, 43, 530, 973, 1622, 1385, 65, 458, 4468, 66, 3941, 4, 173, 36, 256, 5, 25, 100, 43, 838, 112, 50, 670, 2, 9, 35, 480, 284, 5, 150, 4, 172, 112, 167, 2, 336, 385, 39, 4, 172, 4536, 1111, 17, 546, 38, 13, 447, 4, 192, 50, 16, 6, 147, 2025, 19, 14, 22, 4, 1920, 4613, 469, 4, 22, 71, 87, 12, 16, 43, 530, 38, 76, 15, 13, 1247, 4, 22, 17, 515, 17, 12, 16, 626, 18, 2, 5, 62, 386, 12, 8, 316, 8, 106, 5, 4, 2223, 5244, 16, 480, 66, 3785, 33, 4, 130, 12, 16, 38, 619, 5, 25, 124, 51, 36, 135, 48, 25, 1415, 33, 6, 22, 12, 215, 28, 77, 52, 5, 14, 407, 16, 82, 2, 8, 4, 107, 117, 5952, 15, 256, 4, 2, 7, 3766, 5, 723, 36, 71, 43, 530, 476, 26, 400, 317, 46, 7, 4, 2, 1029, 13, 104, 88, 4, 381, 15, 297, 98, 32, 2071, 56, 26, 141, 6, 194, 7486, 18, 4, 226, 22, 21, 134, 476, 26, 480, 5, 144, 30, 5535, 18, 51, 36, 28, 224, 92, 25, 104, 4, 226, 65, 16, 38, 1334, 88, 12, 16, 283, 5, 16, 4472, 113, 103, 32, 15, 16, 5345, 19, 178, 32]\n"
          ],
          "name": "stdout"
        }
      ]
    },
    {
      "cell_type": "code",
      "metadata": {
        "id": "aqnQszby01a3",
        "colab_type": "code",
        "colab": {
          "base_uri": "https://localhost:8080/",
          "height": 34
        },
        "outputId": "3bfba380-a100-4a30-a0ca-d456628f209c"
      },
      "source": [
        "len(train_data[0]), len(train_data[1])"
      ],
      "execution_count": 26,
      "outputs": [
        {
          "output_type": "execute_result",
          "data": {
            "text/plain": [
              "(218, 189)"
            ]
          },
          "metadata": {
            "tags": []
          },
          "execution_count": 26
        }
      ]
    },
    {
      "cell_type": "code",
      "metadata": {
        "id": "qOQnu_sR08hW",
        "colab_type": "code",
        "colab": {}
      },
      "source": [
        "# A dictionary mapping words to an integer index\n",
        "word_index = imdb.get_word_index()\n",
        "\n",
        "# The first indices are reserved\n",
        "word_index = {k:(v+3) for k,v in word_index.items()}\n",
        "word_index[\"<PAD>\"] = 0\n",
        "word_index[\"<START>\"] = 1\n",
        "word_index[\"<UNK>\"] = 2  # unknown\n",
        "word_index[\"<UNUSED>\"] = 3\n",
        "\n",
        "reverse_word_index = dict([(value, key) for (key, value) in word_index.items()])\n",
        "\n",
        "def decode_review(text):\n",
        "    return ' '.join([reverse_word_index.get(i, '?') for i in text])"
      ],
      "execution_count": 0,
      "outputs": []
    },
    {
      "cell_type": "code",
      "metadata": {
        "id": "cDOP1ye51CRc",
        "colab_type": "code",
        "colab": {
          "base_uri": "https://localhost:8080/",
          "height": 54
        },
        "outputId": "a6839c7e-b511-459d-a56a-117baac1a4c2"
      },
      "source": [
        "decode_review(train_data[0])"
      ],
      "execution_count": 28,
      "outputs": [
        {
          "output_type": "execute_result",
          "data": {
            "text/plain": [
              "\"<START> this film was just brilliant casting location scenery story direction everyone's really suited the part they played and you could just imagine being there robert <UNK> is an amazing actor and now the same being director <UNK> father came from the same scottish island as myself so i loved the fact there was a real connection with this film the witty remarks throughout the film were great it was just brilliant so much that i bought the film as soon as it was released for <UNK> and would recommend it to everyone to watch and the fly fishing was amazing really cried at the end it was so sad and you know what they say if you cry at a film it must have been good and this definitely was also <UNK> to the two little boy's that played the <UNK> of norman and paul they were just brilliant children are often left out of the <UNK> list i think because the stars that play them all grown up are such a big profile for the whole film but these children are amazing and should be praised for what they have done don't you think the whole story was so lovely because it was true and was someone's life after all that was shared with us all\""
            ]
          },
          "metadata": {
            "tags": []
          },
          "execution_count": 28
        }
      ]
    },
    {
      "cell_type": "code",
      "metadata": {
        "id": "HMxk0JS41TwU",
        "colab_type": "code",
        "colab": {}
      },
      "source": [
        "train_data = keras.preprocessing.sequence.pad_sequences(train_data,\n",
        "                                                        value=word_index[\"<PAD>\"],\n",
        "                                                        padding='post',\n",
        "                                                        maxlen=256)\n",
        "\n",
        "test_data = keras.preprocessing.sequence.pad_sequences(test_data,\n",
        "                                                       value=word_index[\"<PAD>\"],\n",
        "                                                       padding='post',\n",
        "                                                       maxlen=256)"
      ],
      "execution_count": 0,
      "outputs": []
    },
    {
      "cell_type": "code",
      "metadata": {
        "id": "QiTN-bqb1hkv",
        "colab_type": "code",
        "colab": {
          "base_uri": "https://localhost:8080/",
          "height": 336
        },
        "outputId": "80defc88-d110-48a8-cec7-794e5719d70f"
      },
      "source": [
        "print(train_data[0])"
      ],
      "execution_count": 30,
      "outputs": [
        {
          "output_type": "stream",
          "text": [
            "[   1   14   22   16   43  530  973 1622 1385   65  458 4468   66 3941\n",
            "    4  173   36  256    5   25  100   43  838  112   50  670    2    9\n",
            "   35  480  284    5  150    4  172  112  167    2  336  385   39    4\n",
            "  172 4536 1111   17  546   38   13  447    4  192   50   16    6  147\n",
            " 2025   19   14   22    4 1920 4613  469    4   22   71   87   12   16\n",
            "   43  530   38   76   15   13 1247    4   22   17  515   17   12   16\n",
            "  626   18    2    5   62  386   12    8  316    8  106    5    4 2223\n",
            " 5244   16  480   66 3785   33    4  130   12   16   38  619    5   25\n",
            "  124   51   36  135   48   25 1415   33    6   22   12  215   28   77\n",
            "   52    5   14  407   16   82    2    8    4  107  117 5952   15  256\n",
            "    4    2    7 3766    5  723   36   71   43  530  476   26  400  317\n",
            "   46    7    4    2 1029   13  104   88    4  381   15  297   98   32\n",
            " 2071   56   26  141    6  194 7486   18    4  226   22   21  134  476\n",
            "   26  480    5  144   30 5535   18   51   36   28  224   92   25  104\n",
            "    4  226   65   16   38 1334   88   12   16  283    5   16 4472  113\n",
            "  103   32   15   16 5345   19  178   32    0    0    0    0    0    0\n",
            "    0    0    0    0    0    0    0    0    0    0    0    0    0    0\n",
            "    0    0    0    0    0    0    0    0    0    0    0    0    0    0\n",
            "    0    0    0    0]\n"
          ],
          "name": "stdout"
        }
      ]
    },
    {
      "cell_type": "code",
      "metadata": {
        "id": "BO6Vg8f71luN",
        "colab_type": "code",
        "colab": {
          "base_uri": "https://localhost:8080/",
          "height": 286
        },
        "outputId": "21f4be15-01ab-4392-e166-8ff1b25ee3ab"
      },
      "source": [
        "# input shape is the vocabulary count used for the movie reviews (10,000 words)\n",
        "vocab_size = 10000\n",
        "\n",
        "model = keras.Sequential()\n",
        "model.add(keras.layers.Embedding(vocab_size, 16))\n",
        "model.add(keras.layers.GlobalAveragePooling1D())\n",
        "model.add(keras.layers.Dense(16, activation=tf.nn.relu))\n",
        "model.add(keras.layers.Dense(1, activation=tf.nn.sigmoid))\n",
        "\n",
        "model.summary()"
      ],
      "execution_count": 31,
      "outputs": [
        {
          "output_type": "stream",
          "text": [
            "Model: \"sequential_1\"\n",
            "_________________________________________________________________\n",
            "Layer (type)                 Output Shape              Param #   \n",
            "=================================================================\n",
            "embedding_1 (Embedding)      (None, None, 16)          160000    \n",
            "_________________________________________________________________\n",
            "global_average_pooling1d_1 ( (None, 16)                0         \n",
            "_________________________________________________________________\n",
            "dense_2 (Dense)              (None, 16)                272       \n",
            "_________________________________________________________________\n",
            "dense_3 (Dense)              (None, 1)                 17        \n",
            "=================================================================\n",
            "Total params: 160,289\n",
            "Trainable params: 160,289\n",
            "Non-trainable params: 0\n",
            "_________________________________________________________________\n"
          ],
          "name": "stdout"
        }
      ]
    },
    {
      "cell_type": "code",
      "metadata": {
        "id": "y3aL7hBg1ydu",
        "colab_type": "code",
        "colab": {}
      },
      "source": [
        "model.compile(optimizer='adam',\n",
        "              loss='binary_crossentropy',\n",
        "              metrics=['acc'])"
      ],
      "execution_count": 0,
      "outputs": []
    },
    {
      "cell_type": "code",
      "metadata": {
        "id": "ZJxVFO8J2HSz",
        "colab_type": "code",
        "colab": {}
      },
      "source": [
        "x_val = train_data[:10000]\n",
        "partial_x_train = train_data[10000:]\n",
        "\n",
        "y_val = train_labels[:10000]\n",
        "partial_y_train = train_labels[10000:]"
      ],
      "execution_count": 0,
      "outputs": []
    },
    {
      "cell_type": "code",
      "metadata": {
        "id": "vB3yAoaA2PEl",
        "colab_type": "code",
        "colab": {
          "base_uri": "https://localhost:8080/",
          "height": 1000
        },
        "outputId": "0d174fd5-24e2-4bfc-a7de-86dcdbddd24d"
      },
      "source": [
        "history = model.fit(partial_x_train,\n",
        "                    partial_y_train,\n",
        "                    epochs=40,\n",
        "                    batch_size=512,\n",
        "                    validation_data=(x_val, y_val),\n",
        "                    verbose=1)"
      ],
      "execution_count": 34,
      "outputs": [
        {
          "output_type": "stream",
          "text": [
            "Train on 15000 samples, validate on 10000 samples\n",
            "Epoch 1/40\n",
            "15000/15000 [==============================] - 1s 72us/sample - loss: 0.6918 - acc: 0.5449 - val_loss: 0.6899 - val_acc: 0.5868\n",
            "Epoch 2/40\n",
            "15000/15000 [==============================] - 1s 63us/sample - loss: 0.6864 - acc: 0.6853 - val_loss: 0.6826 - val_acc: 0.7289\n",
            "Epoch 3/40\n",
            "15000/15000 [==============================] - 1s 63us/sample - loss: 0.6743 - acc: 0.7478 - val_loss: 0.6669 - val_acc: 0.7534\n",
            "Epoch 4/40\n",
            "15000/15000 [==============================] - 1s 64us/sample - loss: 0.6523 - acc: 0.7594 - val_loss: 0.6414 - val_acc: 0.7547\n",
            "Epoch 5/40\n",
            "15000/15000 [==============================] - 1s 64us/sample - loss: 0.6193 - acc: 0.7877 - val_loss: 0.6068 - val_acc: 0.7812\n",
            "Epoch 6/40\n",
            "15000/15000 [==============================] - 1s 63us/sample - loss: 0.5772 - acc: 0.8089 - val_loss: 0.5663 - val_acc: 0.7979\n",
            "Epoch 7/40\n",
            "15000/15000 [==============================] - 1s 64us/sample - loss: 0.5303 - acc: 0.8243 - val_loss: 0.5222 - val_acc: 0.8167\n",
            "Epoch 8/40\n",
            "15000/15000 [==============================] - 1s 64us/sample - loss: 0.4832 - acc: 0.8429 - val_loss: 0.4814 - val_acc: 0.8311\n",
            "Epoch 9/40\n",
            "15000/15000 [==============================] - 1s 63us/sample - loss: 0.4393 - acc: 0.8577 - val_loss: 0.4445 - val_acc: 0.8412\n",
            "Epoch 10/40\n",
            "15000/15000 [==============================] - 1s 64us/sample - loss: 0.4005 - acc: 0.8712 - val_loss: 0.4140 - val_acc: 0.8496\n",
            "Epoch 11/40\n",
            "15000/15000 [==============================] - 1s 63us/sample - loss: 0.3676 - acc: 0.8790 - val_loss: 0.3887 - val_acc: 0.8575\n",
            "Epoch 12/40\n",
            "15000/15000 [==============================] - 1s 64us/sample - loss: 0.3398 - acc: 0.8877 - val_loss: 0.3692 - val_acc: 0.8615\n",
            "Epoch 13/40\n",
            "15000/15000 [==============================] - 1s 63us/sample - loss: 0.3171 - acc: 0.8939 - val_loss: 0.3519 - val_acc: 0.8676\n",
            "Epoch 14/40\n",
            "15000/15000 [==============================] - 1s 63us/sample - loss: 0.2967 - acc: 0.8995 - val_loss: 0.3393 - val_acc: 0.8705\n",
            "Epoch 15/40\n",
            "15000/15000 [==============================] - 1s 64us/sample - loss: 0.2796 - acc: 0.9040 - val_loss: 0.3288 - val_acc: 0.8730\n",
            "Epoch 16/40\n",
            "15000/15000 [==============================] - 1s 63us/sample - loss: 0.2643 - acc: 0.9089 - val_loss: 0.3200 - val_acc: 0.8743\n",
            "Epoch 17/40\n",
            "15000/15000 [==============================] - 1s 64us/sample - loss: 0.2502 - acc: 0.9141 - val_loss: 0.3127 - val_acc: 0.8766\n",
            "Epoch 18/40\n",
            "15000/15000 [==============================] - 1s 64us/sample - loss: 0.2377 - acc: 0.9190 - val_loss: 0.3064 - val_acc: 0.8800\n",
            "Epoch 19/40\n",
            "15000/15000 [==============================] - 1s 64us/sample - loss: 0.2264 - acc: 0.9211 - val_loss: 0.3011 - val_acc: 0.8808\n",
            "Epoch 20/40\n",
            "15000/15000 [==============================] - 1s 64us/sample - loss: 0.2162 - acc: 0.9246 - val_loss: 0.2974 - val_acc: 0.8807\n",
            "Epoch 21/40\n",
            "15000/15000 [==============================] - 1s 64us/sample - loss: 0.2060 - acc: 0.9300 - val_loss: 0.2941 - val_acc: 0.8809\n",
            "Epoch 22/40\n",
            "15000/15000 [==============================] - 1s 63us/sample - loss: 0.1973 - acc: 0.9324 - val_loss: 0.2914 - val_acc: 0.8832\n",
            "Epoch 23/40\n",
            "15000/15000 [==============================] - 1s 63us/sample - loss: 0.1886 - acc: 0.9373 - val_loss: 0.2900 - val_acc: 0.8828\n",
            "Epoch 24/40\n",
            "15000/15000 [==============================] - 1s 64us/sample - loss: 0.1810 - acc: 0.9405 - val_loss: 0.2881 - val_acc: 0.8847\n",
            "Epoch 25/40\n",
            "15000/15000 [==============================] - 1s 63us/sample - loss: 0.1733 - acc: 0.9441 - val_loss: 0.2865 - val_acc: 0.8836\n",
            "Epoch 26/40\n",
            "15000/15000 [==============================] - 1s 64us/sample - loss: 0.1664 - acc: 0.9468 - val_loss: 0.2868 - val_acc: 0.8830\n",
            "Epoch 27/40\n",
            "15000/15000 [==============================] - 1s 62us/sample - loss: 0.1598 - acc: 0.9495 - val_loss: 0.2860 - val_acc: 0.8839\n",
            "Epoch 28/40\n",
            "15000/15000 [==============================] - 1s 63us/sample - loss: 0.1536 - acc: 0.9524 - val_loss: 0.2861 - val_acc: 0.8848\n",
            "Epoch 29/40\n",
            "15000/15000 [==============================] - 1s 63us/sample - loss: 0.1481 - acc: 0.9555 - val_loss: 0.2875 - val_acc: 0.8833\n",
            "Epoch 30/40\n",
            "15000/15000 [==============================] - 1s 64us/sample - loss: 0.1424 - acc: 0.9565 - val_loss: 0.2867 - val_acc: 0.8856\n",
            "Epoch 31/40\n",
            "15000/15000 [==============================] - 1s 62us/sample - loss: 0.1365 - acc: 0.9599 - val_loss: 0.2875 - val_acc: 0.8865\n",
            "Epoch 32/40\n",
            "15000/15000 [==============================] - 1s 64us/sample - loss: 0.1313 - acc: 0.9620 - val_loss: 0.2887 - val_acc: 0.8858\n",
            "Epoch 33/40\n",
            "15000/15000 [==============================] - 1s 63us/sample - loss: 0.1262 - acc: 0.9637 - val_loss: 0.2907 - val_acc: 0.8855\n",
            "Epoch 34/40\n",
            "15000/15000 [==============================] - 1s 63us/sample - loss: 0.1217 - acc: 0.9656 - val_loss: 0.2925 - val_acc: 0.8855\n",
            "Epoch 35/40\n",
            "15000/15000 [==============================] - 1s 63us/sample - loss: 0.1175 - acc: 0.9663 - val_loss: 0.2948 - val_acc: 0.8857\n",
            "Epoch 36/40\n",
            "15000/15000 [==============================] - 1s 62us/sample - loss: 0.1130 - acc: 0.9689 - val_loss: 0.2964 - val_acc: 0.8852\n",
            "Epoch 37/40\n",
            "15000/15000 [==============================] - 1s 63us/sample - loss: 0.1086 - acc: 0.9695 - val_loss: 0.2987 - val_acc: 0.8841\n",
            "Epoch 38/40\n",
            "15000/15000 [==============================] - 1s 64us/sample - loss: 0.1046 - acc: 0.9713 - val_loss: 0.3020 - val_acc: 0.8829\n",
            "Epoch 39/40\n",
            "15000/15000 [==============================] - 1s 64us/sample - loss: 0.1013 - acc: 0.9722 - val_loss: 0.3052 - val_acc: 0.8826\n",
            "Epoch 40/40\n",
            "15000/15000 [==============================] - 1s 64us/sample - loss: 0.0973 - acc: 0.9743 - val_loss: 0.3077 - val_acc: 0.8835\n"
          ],
          "name": "stdout"
        }
      ]
    },
    {
      "cell_type": "code",
      "metadata": {
        "id": "uGpm6sJe2exb",
        "colab_type": "code",
        "colab": {
          "base_uri": "https://localhost:8080/",
          "height": 50
        },
        "outputId": "9cc8df86-e5b4-4ccd-c49e-872733cedc3e"
      },
      "source": [
        "results = model.evaluate(test_data, test_labels)\n",
        "\n",
        "print(results)"
      ],
      "execution_count": 35,
      "outputs": [
        {
          "output_type": "stream",
          "text": [
            "25000/25000 [==============================] - 1s 36us/sample - loss: 0.3282 - acc: 0.8722\n",
            "[0.3282476795101166, 0.87224]\n"
          ],
          "name": "stdout"
        }
      ]
    },
    {
      "cell_type": "code",
      "metadata": {
        "id": "GO1Tm_Ai2pA5",
        "colab_type": "code",
        "colab": {
          "base_uri": "https://localhost:8080/",
          "height": 34
        },
        "outputId": "f0288429-d7e3-4a77-bac2-e62af4f869e9"
      },
      "source": [
        "history_dict = history.history\n",
        "history_dict.keys()"
      ],
      "execution_count": 36,
      "outputs": [
        {
          "output_type": "execute_result",
          "data": {
            "text/plain": [
              "dict_keys(['loss', 'acc', 'val_loss', 'val_acc'])"
            ]
          },
          "metadata": {
            "tags": []
          },
          "execution_count": 36
        }
      ]
    },
    {
      "cell_type": "code",
      "metadata": {
        "id": "mvgqJs2U2zsJ",
        "colab_type": "code",
        "colab": {
          "base_uri": "https://localhost:8080/",
          "height": 295
        },
        "outputId": "f128efba-b43e-4b00-ccbe-f5c459ebecd5"
      },
      "source": [
        "import matplotlib.pyplot as plt\n",
        "\n",
        "acc = history_dict['acc']\n",
        "val_acc = history_dict['val_acc']\n",
        "loss = history_dict['loss']\n",
        "val_loss = history_dict['val_loss']\n",
        "\n",
        "epochs = range(1, len(acc) + 1)\n",
        "\n",
        "# \"bo\" is for \"blue dot\"\n",
        "plt.plot(epochs, loss, 'bo', label='Training loss')\n",
        "# b is for \"solid blue line\"\n",
        "plt.plot(epochs, val_loss, 'b', label='Validation loss')\n",
        "plt.title('Training and validation loss')\n",
        "plt.xlabel('Epochs')\n",
        "plt.ylabel('Loss')\n",
        "plt.legend()\n",
        "\n",
        "plt.show()"
      ],
      "execution_count": 37,
      "outputs": [
        {
          "output_type": "display_data",
          "data": {
            "image/png": "[encoded data removed]",
            "text/plain": [
              "<Figure size 432x288 with 1 Axes>"
            ]
          },
          "metadata": {
            "tags": []
          }
        }
      ]
    },
    {
      "cell_type": "code",
      "metadata": {
        "id": "CvKoG-Er23yz",
        "colab_type": "code",
        "colab": {
          "base_uri": "https://localhost:8080/",
          "height": 295
        },
        "outputId": "c2eb25fe-206b-4082-bbb5-172dfd0e3c2a"
      },
      "source": [
        "plt.clf()   # clear figure\n",
        "\n",
        "plt.plot(epochs, acc, 'bo', label='Training acc')\n",
        "plt.plot(epochs, val_acc, 'b', label='Validation acc')\n",
        "plt.title('Training and validation accuracy')\n",
        "plt.xlabel('Epochs')\n",
        "plt.ylabel('Accuracy')\n",
        "plt.legend()\n",
        "\n",
        "plt.show()"
      ],
      "execution_count": 38,
      "outputs": [
        {
          "output_type": "display_data",
          "data": {
            "image/png": "[encoded data removed]",
            "text/plain": [
              "<Figure size 432x288 with 1 Axes>"
            ]
          },
          "metadata": {
            "tags": []
          }
        }
      ]
    },
    {
      "cell_type": "code",
      "metadata": {
        "id": "lMV9AijA2_5u",
        "colab_type": "code",
        "colab": {}
      },
      "source": [
        ""
      ],
      "execution_count": 0,
      "outputs": []
    }
  ]
}